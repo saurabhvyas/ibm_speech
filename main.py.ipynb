{
 "cells": [
  {
   "cell_type": "code",
   "execution_count": 1,
   "metadata": {
    "collapsed": true
   },
   "outputs": [],
   "source": [
    "# implemenatation of https://arxiv.org/pdf/1703.07754.pdf\n",
    "\n",
    "# to do \n",
    "\n",
    "# create basic model bidirectional architecture\n",
    "# glove initialization\n",
    "# ctc integration\n",
    "# dataset preparation\n"
   ]
  },
  {
   "cell_type": "code",
   "execution_count": 3,
   "metadata": {
    "collapsed": true
   },
   "outputs": [],
   "source": [
    "import tensorflow as tf\n",
    "from tensorflow.contrib import rnn\n",
    "import numpy as np\n"
   ]
  },
  {
   "cell_type": "code",
   "execution_count": 8,
   "metadata": {
    "collapsed": true
   },
   "outputs": [],
   "source": [
    "# Training Parameters\n",
    "learning_rate = 0.001\n",
    "training_steps = 10000\n",
    "batch_size = 2\n",
    "display_step = 10\n",
    "\n",
    "# Network Parameters\n",
    "num_input = 80# \n",
    "timesteps = 300 # timesteps\n",
    "num_hidden = 320 # hidden layer num of features\n"
   ]
  },
  {
   "cell_type": "code",
   "execution_count": 9,
   "metadata": {
    "collapsed": true
   },
   "outputs": [],
   "source": [
    "'''We extracted 40-dimensional logMel filterbank energies over\n",
    "25 ms frames every 10 ms from the input speech signal, stacked\n",
    "two successive frames, and dropped every alternate frame resulting\n",
    "in 80-dimensional logMel features at half the rate of the\n",
    "original 40-dimensional features. This ”stacking+decimation”\n",
    "operation [16] provided significant speed-up in training because\n",
    "the sequence length reduces by half with no loss in performance '''\n",
    "\n",
    "\n",
    "X = tf.placeholder(\"float\", [None, timesteps, num_input])"
   ]
  },
  {
   "cell_type": "code",
   "execution_count": 12,
   "metadata": {
    "collapsed": true
   },
   "outputs": [],
   "source": [
    "def model(x):\n",
    "\n",
    "   \n",
    "    #  data input shape: (batch_size, timesteps, n_input)\n",
    "    \n",
    "\n",
    "    # Define lstm cells with tensorflow\n",
    "    # Forward direction cell for layer 1\n",
    "    lstm_fw_cell_1 = rnn.BasicLSTMCell(num_hidden, forget_bias=1.0)\n",
    "    # Backward direction cell for layer 1 \n",
    "    lstm_bw_cell_1 = rnn.BasicLSTMCell(num_hidden, forget_bias=1.0)\n",
    "    \n",
    "     # Forward direction cell for layer 2\n",
    "    lstm_fw_cell_2 = rnn.BasicLSTMCell(num_hidden, forget_bias=1.0)\n",
    "    # Backward direction cell for layer 2 \n",
    "    lstm_bw_cell_2 = rnn.BasicLSTMCell(num_hidden, forget_bias=1.0)\n",
    "    \n",
    "    # Forward direction cell for layer 3\n",
    "    lstm_fw_cell_3 = rnn.BasicLSTMCell(num_hidden, forget_bias=1.0)\n",
    "    # Backward direction cell for layer 3 \n",
    "    lstm_bw_cell_3 = rnn.BasicLSTMCell(num_hidden, forget_bias=1.0)\n",
    "    \n",
    "    # Forward direction cell for layer 4\n",
    "    lstm_fw_cell_4 = rnn.BasicLSTMCell(num_hidden, forget_bias=1.0)\n",
    "    # Backward direction cell for layer 4 \n",
    "    lstm_bw_cell_4 = rnn.BasicLSTMCell(num_hidden, forget_bias=1.0)\n",
    "    \n",
    "     # Forward direction cell for layer 5\n",
    "    lstm_fw_cell_5 = rnn.BasicLSTMCell(num_hidden, forget_bias=1.0)\n",
    "    # Backward direction cell for layer 5 \n",
    "    lstm_bw_cell_5 = rnn.BasicLSTMCell(num_hidden, forget_bias=1.0)\n",
    "    \n",
    "    cells_fw=[lstm_fw_cell_1,lstm_fw_cell_2,lstm_fw_cell_3,lstm_fw_cell_4,lstm_fw_cell_5]\n",
    "    cells_bw=[lstm_bw_cell_1, lstm_bw_cell_2,lstm_bw_cell_3,lstm_bw_cell_4,lstm_bw_cell_5]\n",
    "\n",
    "    outputs, _, _ = tf.contrib.rnn.stack_bidirectional_dynamic_rnn(cells_fw, cells_bw, x,\n",
    "                                              dtype=tf.float32)\n",
    "    return outputs"
   ]
  },
  {
   "cell_type": "code",
   "execution_count": 13,
   "metadata": {},
   "outputs": [],
   "source": [
    "outputs = model(X)"
   ]
  },
  {
   "cell_type": "code",
   "execution_count": null,
   "metadata": {
    "collapsed": true
   },
   "outputs": [],
   "source": []
  }
 ],
 "metadata": {
  "kernelspec": {
   "display_name": "Python [default]",
   "language": "python",
   "name": "python3"
  },
  "language_info": {
   "codemirror_mode": {
    "name": "ipython",
    "version": 3
   },
   "file_extension": ".py",
   "mimetype": "text/x-python",
   "name": "python",
   "nbconvert_exporter": "python",
   "pygments_lexer": "ipython3",
   "version": "3.6.1"
  }
 },
 "nbformat": 4,
 "nbformat_minor": 2
}
